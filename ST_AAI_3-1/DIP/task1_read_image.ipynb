{
 "cells": [
  {
   "cell_type": "code",
   "execution_count": null,
   "id": "640478f0-e7cb-4012-804c-f3030606e10d",
   "metadata": {},
   "outputs": [
    {
     "name": "stdout",
     "output_type": "stream",
     "text": [
      "pixel information [100, 100]\n",
      "gray2gray 152\n",
      "gray2color [113 137 195]\n"
     ]
    }
   ],
   "source": [
    "import cv2\n",
    "\n",
    "title1, title2 = 'gray2gray', 'gray2color'\n",
    "\n",
    "gray2gray = cv2.imread('rena-s.jpg', cv2.IMREAD_GRAYSCALE)\n",
    "gray2color = cv2.imread('rena-s.jpg', cv2.IMREAD_COLOR)\n",
    "\n",
    "\n",
    "    \n",
    "print(\"pixel information [100, 100]\")\n",
    "print(\"%s %s\" % (title1, gray2gray[100, 100]))\n",
    "print(\"%s %s\" % (title2, gray2color[100, 100]))\n",
    "\n",
    "cv2.imshow(title1, gray2gray)\n",
    "cv2.imshow(title2, gray2color)\n",
    "\n",
    "cv2.waitKey(0)"
   ]
  },
  {
   "cell_type": "code",
   "execution_count": null,
   "id": "8bbf5c1b-0628-4878-a95c-729ba7310420",
   "metadata": {},
   "outputs": [],
   "source": [
    "if gray2gray in None or gray2color is None:\n",
    "    raise Exception(\"Image File Read Error!\")"
   ]
  },
  {
   "cell_type": "code",
   "execution_count": null,
   "id": "b066de8c-c1ea-4ef1-91ac-5c5b7644cdcb",
   "metadata": {},
   "outputs": [],
   "source": []
  }
 ],
 "metadata": {
  "kernelspec": {
   "display_name": "Python 3 (ipykernel)",
   "language": "python",
   "name": "python3"
  },
  "language_info": {
   "codemirror_mode": {
    "name": "ipython",
    "version": 3
   },
   "file_extension": ".py",
   "mimetype": "text/x-python",
   "name": "python",
   "nbconvert_exporter": "python",
   "pygments_lexer": "ipython3",
   "version": "3.9.15"
  }
 },
 "nbformat": 4,
 "nbformat_minor": 5
}
