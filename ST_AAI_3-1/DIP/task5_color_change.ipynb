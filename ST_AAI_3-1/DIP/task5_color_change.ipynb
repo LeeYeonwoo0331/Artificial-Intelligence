{
 "cells": [
  {
   "cell_type": "code",
   "execution_count": null,
   "id": "4de37d0d-9729-4802-9105-937f59cd839d",
   "metadata": {},
   "outputs": [],
   "source": [
    "import cv2\n",
    "import numpy as np\n",
    "\n",
    "# Read the image\n",
    "img = cv2.imread('rena-s.jpg')\n",
    "\n",
    "# Convert from BGR to CMY color space\n",
    "cmy_img = 255 - img\n",
    "\n",
    "# Split the CMY image into individual channels\n",
    "c, m, y = cv2.split(cmy_img)\n",
    "\n",
    "# Display each channel separately\n",
    "cv2.imshow('BGR_image', img)\n",
    "cv2.imshow('CMY_image', cmy_img)\n",
    "cv2.imshow('Cyan channel', c)\n",
    "cv2.imshow('Magenta channel', m)\n",
    "cv2.imshow('Yellow channel', y)\n",
    "cv2.waitKey(0)\n",
    "cv2.destroyAllWindows()"
   ]
  },
  {
   "cell_type": "code",
   "execution_count": null,
   "id": "a5b06303-42ee-4a45-91af-449ec168ed99",
   "metadata": {},
   "outputs": [],
   "source": []
  }
 ],
 "metadata": {
  "kernelspec": {
   "display_name": "Python 3 (ipykernel)",
   "language": "python",
   "name": "python3"
  },
  "language_info": {
   "codemirror_mode": {
    "name": "ipython",
    "version": 3
   },
   "file_extension": ".py",
   "mimetype": "text/x-python",
   "name": "python",
   "nbconvert_exporter": "python",
   "pygments_lexer": "ipython3",
   "version": "3.9.15"
  }
 },
 "nbformat": 4,
 "nbformat_minor": 5
}
