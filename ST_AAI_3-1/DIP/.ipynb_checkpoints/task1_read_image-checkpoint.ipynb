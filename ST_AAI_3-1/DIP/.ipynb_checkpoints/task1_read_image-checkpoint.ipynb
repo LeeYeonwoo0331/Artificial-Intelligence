{
 "cells": [
  {
   "cell_type": "code",
   "execution_count": null,
   "id": "640478f0-e7cb-4012-804c-f3030606e10d",
   "metadata": {},
   "outputs": [
    {
     "name": "stdout",
     "output_type": "stream",
     "text": [
      "pixel information [100, 100]\n",
      "gray2gray 152\n",
      "gray2color [113 137 195]\n"
     ]
    }
   ],
   "source": [
    "import cv2\n",
    "\n",
    "title1, title2 = 'gray2gray', 'gray2color'\n",
    "\n",
    "gray2gray = cv2.imread('rena-s.jpg', cv2.IMREAD_GRAYSCALE)\n",
    "gray2color = cv2.imread('rena-s.jpg', cv2.IMREAD_COLOR)\n",
    "\n",
    "\n",
    "    \n",
    "print(\"pixel information [100, 100]\")\n",
    "print(\"%s %s\" % (title1, gray2gray[100, 100]))\n",
    "print(\"%s %s\" % (title2, gray2color[100, 100]))\n",
    "\n",
    "cv2.imshow(title1, gray2gray)\n",
    "cv2.imshow(title2, gray2color)\n",
    "\n",
    "cv2.waitKey(0)"
   ]
  },
  {
   "cell_type": "code",
   "execution_count": null,
   "id": "8bbf5c1b-0628-4878-a95c-729ba7310420",
   "metadata": {},
   "outputs": [],
   "source": [
    "if gray2gray in None or gray2color is None:\n",
    "    raise Exception(\"Image File Read Error!\")"
   ]
  },
  {
   "cell_type": "code",
   "execution_count": 1,
   "id": "eb141c37-2e5a-49d0-afe1-dc2fc1bbc541",
   "metadata": {},
   "outputs": [],
   "source": [
    "import cv2 as cv\n",
    "import numpy as np\n",
    "\n",
    "image = cv.imread(\"rena-s.jpg\")\n",
    "\n",
    "if image is None:\n",
    "    print('Could not open or find the image')\n",
    "    exit(0)"
   ]
  },
  {
   "cell_type": "code",
   "execution_count": 2,
   "id": "b1eedb1b-cf80-443a-8b2a-538a15162ad5",
   "metadata": {},
   "outputs": [],
   "source": [
    "new_image = np.zeros(image.shape, image.dtype)\n",
    "\n",
    "alpha = 1.5\n",
    "beta = 50\n",
    "\n",
    "for y in range(image.shape[0]):\n",
    "    for x in range(image.shape[1]):\n",
    "        for c in range(image.shape[2]):\n",
    "            new_image[y,x,c] = alpha * image[y,x,c] + beta\n",
    "            \n",
    "            \n",
    "            \n",
    "            "
   ]
  },
  {
   "cell_type": "code",
   "execution_count": 3,
   "id": "95bf2efa-e5d4-42ec-a0ab-1a5012bafca3",
   "metadata": {},
   "outputs": [],
   "source": [
    "originName = \"origin\"\n",
    "destName = \"target\"\n",
    "\n",
    "custom_color = (100, 255, 100)\n",
    "\n",
    "cv.putText(image, originName, (10, 25), cv.FONT_HERSHEY_TRIPLEX, 1, custom_color, 1, cv.LINE_AA)\n",
    "cv.putText(new_image, destName, (10, 25), cv.FONT_HERSHEY_TRIPLEX, 1, custom_color, 1, cv.LINE_AA)\n",
    "\n",
    "cv.namedWindow(originName)\n",
    "cv.namedWindow(destName)\n",
    "\n",
    "cv.moveWindow(originName, 30, 30)\n",
    "cv.imshow(originName, image)\n",
    "\n",
    "cv.moveWindow(destName, 250, 30)\n",
    "cv.imshow(destName, new_image)\n",
    "\n",
    "cv.waitKey(0)\n",
    "cv.destroyAllWindows()"
   ]
  },
  {
   "cell_type": "code",
   "execution_count": null,
   "id": "b066de8c-c1ea-4ef1-91ac-5c5b7644cdcb",
   "metadata": {},
   "outputs": [],
   "source": []
  }
 ],
 "metadata": {
  "kernelspec": {
   "display_name": "Python 3 (ipykernel)",
   "language": "python",
   "name": "python3"
  },
  "language_info": {
   "codemirror_mode": {
    "name": "ipython",
    "version": 3
   },
   "file_extension": ".py",
   "mimetype": "text/x-python",
   "name": "python",
   "nbconvert_exporter": "python",
   "pygments_lexer": "ipython3",
   "version": "3.9.15"
  }
 },
 "nbformat": 4,
 "nbformat_minor": 5
}
