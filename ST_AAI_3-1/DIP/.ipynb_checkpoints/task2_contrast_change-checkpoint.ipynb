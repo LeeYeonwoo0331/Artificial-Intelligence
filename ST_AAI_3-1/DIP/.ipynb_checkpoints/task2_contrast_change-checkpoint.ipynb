{
 "cells": [
  {
   "cell_type": "code",
   "execution_count": 1,
   "id": "eb141c37-2e5a-49d0-afe1-dc2fc1bbc541",
   "metadata": {},
   "outputs": [],
   "source": [
    "import cv2 as cv\n",
    "import numpy as np\n",
    "\n",
    "image = cv.imread(\"rena-s.jpg\")\n",
    "\n",
    "if image is None:\n",
    "    print('Could not open or find the image')\n",
    "    exit(0)"
   ]
  },
  {
   "cell_type": "code",
   "execution_count": 2,
   "id": "b1eedb1b-cf80-443a-8b2a-538a15162ad5",
   "metadata": {},
   "outputs": [],
   "source": [
    "new_image = np.zeros(image.shape, image.dtype)\n",
    "\n",
    "alpha = 1.5\n",
    "beta = 50\n",
    "\n",
    "for y in range(image.shape[0]):\n",
    "    for x in range(image.shape[1]):\n",
    "        for c in range(image.shape[2]):\n",
    "            new_image[y,x,c] = np.clip(alpha * image[y,x,c] + beta, 0, 255)"
   ]
  },
  {
   "cell_type": "code",
   "execution_count": 3,
   "id": "95bf2efa-e5d4-42ec-a0ab-1a5012bafca3",
   "metadata": {},
   "outputs": [],
   "source": [
    "originName = \"origin\"\n",
    "destName = \"target\"\n",
    "\n",
    "custom_color = (100, 255, 100)\n",
    "\n",
    "cv.putText(image, originName, (10, 25), cv.FONT_HERSHEY_TRIPLEX, 1, custom_color, 1, cv.LINE_AA)\n",
    "cv.putText(new_image, destName, (10, 25), cv.FONT_HERSHEY_TRIPLEX, 1, custom_color, 1, cv.LINE_AA)\n",
    "\n",
    "cv.namedWindow(originName)\n",
    "cv.namedWindow(destName)\n",
    "\n",
    "cv.moveWindow(originName, 30, 30)\n",
    "cv.imshow(originName, image)\n",
    "\n",
    "cv.moveWindow(destName, 250, 30)\n",
    "cv.imshow(destName, new_image)\n",
    "\n",
    "cv.waitKey(0)\n",
    "cv.destroyAllWindows()"
   ]
  },
  {
   "cell_type": "code",
   "execution_count": null,
   "id": "b066de8c-c1ea-4ef1-91ac-5c5b7644cdcb",
   "metadata": {},
   "outputs": [],
   "source": []
  }
 ],
 "metadata": {
  "kernelspec": {
   "display_name": "Python 3 (ipykernel)",
   "language": "python",
   "name": "python3"
  },
  "language_info": {
   "codemirror_mode": {
    "name": "ipython",
    "version": 3
   },
   "file_extension": ".py",
   "mimetype": "text/x-python",
   "name": "python",
   "nbconvert_exporter": "python",
   "pygments_lexer": "ipython3",
   "version": "3.9.15"
  }
 },
 "nbformat": 4,
 "nbformat_minor": 5
}
