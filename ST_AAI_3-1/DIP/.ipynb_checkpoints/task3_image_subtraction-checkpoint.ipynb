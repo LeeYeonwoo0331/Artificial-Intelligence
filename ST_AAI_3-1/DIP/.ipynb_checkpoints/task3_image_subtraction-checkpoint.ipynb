{
 "cells": [
  {
   "cell_type": "code",
   "execution_count": 1,
   "id": "ae978407-3aef-4bf7-8971-287b60d87133",
   "metadata": {},
   "outputs": [],
   "source": [
    "import cv2 as cv\n",
    "import numpy as np\n",
    "\n",
    "image1 = cv.imread(\"angio1.jpg\")\n",
    "image2 = cv.imread(\"angio2.jpg\")"
   ]
  },
  {
   "cell_type": "code",
   "execution_count": 2,
   "id": "74df1b3a-20d2-4b61-9e4c-0bec3c0eabca",
   "metadata": {},
   "outputs": [],
   "source": [
    "image1 = np.array(image1, dtype=np.uint8)\n",
    "\n",
    "image2 = np.array(image2, dtype=np.uint8)\n",
    "\n",
    "image3 = cv.subtract(image2, image1)"
   ]
  },
  {
   "cell_type": "code",
   "execution_count": 3,
   "id": "3a8b007c-c929-4dad-9ced-b3753620c6a4",
   "metadata": {},
   "outputs": [],
   "source": [
    "origin1Name = \"origin #1\"\n",
    "origin2Name = \"origin #2\"\n",
    "destName = \"result\"\n",
    "\n",
    "custom_color = (100, 255, 100)\n",
    "\n",
    "cv.putText(image1, origin1Name, (10, 25), cv.FONT_HERSHEY_TRIPLEX, 1, custom_color, 1, cv.LINE_AA)\n",
    "cv.putText(image2, origin2Name, (10, 25), cv.FONT_HERSHEY_TRIPLEX, 1, custom_color, 1, cv.LINE_AA)\n",
    "cv.putText(image3, destName, (10, 25), cv.FONT_HERSHEY_TRIPLEX, 1, custom_color, 1, cv.LINE_AA)\n",
    "\n",
    "cv.namedWindow(origin1Name)\n",
    "cv.namedWindow(origin2Name)\n",
    "cv.namedWindow(destName)\n",
    "\n",
    "cv.moveWindow(origin1Name, 30, 30)\n",
    "cv.moveWindow(origin2Name, 30, 30)\n",
    "cv.imshow(origin1Name, image1)\n",
    "cv.imshow(origin2Name, image2)\n",
    "\n",
    "cv.moveWindow(destName, 250, 30)\n",
    "cv.imshow(destName, image3)\n",
    "\n",
    "cv.waitKey(0)\n",
    "cv.destroyAllWindows()"
   ]
  },
  {
   "cell_type": "code",
   "execution_count": null,
   "id": "a8752a28-a5c9-4b1f-bbf8-afb398ddb4d3",
   "metadata": {},
   "outputs": [],
   "source": []
  }
 ],
 "metadata": {
  "kernelspec": {
   "display_name": "Python 3 (ipykernel)",
   "language": "python",
   "name": "python3"
  },
  "language_info": {
   "codemirror_mode": {
    "name": "ipython",
    "version": 3
   },
   "file_extension": ".py",
   "mimetype": "text/x-python",
   "name": "python",
   "nbconvert_exporter": "python",
   "pygments_lexer": "ipython3",
   "version": "3.9.15"
  }
 },
 "nbformat": 4,
 "nbformat_minor": 5
}
