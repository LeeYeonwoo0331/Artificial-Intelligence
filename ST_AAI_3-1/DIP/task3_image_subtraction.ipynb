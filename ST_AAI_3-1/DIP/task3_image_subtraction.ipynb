{
 "cells": [
  {
   "cell_type": "code",
   "execution_count": 1,
   "id": "ae978407-3aef-4bf7-8971-287b60d87133",
   "metadata": {
    "tags": []
   },
   "outputs": [],
   "source": [
    "import cv2 as cv\n",
    "import numpy as np\n",
    "\n",
    "image1 = cv.imread(\"angio1.jpg\")\n",
    "image2 = cv.imread(\"angio2.jpg\")"
   ]
  },
  {
   "cell_type": "code",
   "execution_count": 2,
   "id": "74df1b3a-20d2-4b61-9e4c-0bec3c0eabca",
   "metadata": {},
   "outputs": [],
   "source": [
    "image1 = np.array(image1, dtype=np.uint8)\n",
    "\n",
    "image2 = np.array(image2, dtype=np.uint8)\n",
    "\n",
    "image3 = cv.subtract(image2, image1)\n",
    "\n",
    "new_image=np.zeros(image1.shape, image1.dtype)\n",
    "for y in range(image1.shape[0]):\n",
    "    for x in range(image1.shape[1]):\n",
    "        for c in range(image1.shape[2]):\n",
    "            new_image[y,x,c]=np.clip(abs(int(image1[y,x,c])-int(image2[y,x,c])),0, 255)"
   ]
  },
  {
   "cell_type": "code",
   "execution_count": null,
   "id": "3a8b007c-c929-4dad-9ced-b3753620c6a4",
   "metadata": {},
   "outputs": [],
   "source": [
    "custom_color = (100, 255, 100)\n",
    "\n",
    "cv.putText(image1, \"origin #1\", (10, 25), cv.FONT_HERSHEY_TRIPLEX, 1, custom_color, 1, cv.LINE_AA)\n",
    "cv.putText(image2, \"origin #2\", (10, 25), cv.FONT_HERSHEY_TRIPLEX, 1, custom_color, 1, cv.LINE_AA)\n",
    "cv.putText(image3, \"result_cv.sub\", (10, 25), cv.FONT_HERSHEY_TRIPLEX, 1, custom_color, 1, cv.LINE_AA)\n",
    "cv.putText(new_image, \"result_numpy\", (10, 25), cv.FONT_HERSHEY_TRIPLEX, 1, custom_color, 1, cv.LINE_AA)\n",
    "\n",
    "cv.namedWindow(\"origin #1\")\n",
    "cv.namedWindow(\"origin #2\")\n",
    "cv.namedWindow(\"result_cv.sub\")\n",
    "cv.namedWindow(\"result_numpy\")\n",
    "\n",
    "cv.moveWindow(\"origin #1\", 30, 30)\n",
    "cv.moveWindow(\"origin #2\", 250, 30)\n",
    "cv.moveWindow(\"result_cv.sub\", 470, 30)\n",
    "cv.moveWindow(\"result_numpy\", 690, 30)\n",
    "\n",
    "cv.imshow(\"origin #1\", image1)\n",
    "cv.imshow(\"origin #2\", image2)\n",
    "cv.imshow(\"result_cv.sub\", image3)\n",
    "cv.imshow(\"result_numpy\", new_image)\n",
    "\n",
    "cv.waitKey(0)\n",
    "cv.destroyAllWindows()"
   ]
  },
  {
   "cell_type": "code",
   "execution_count": null,
   "id": "a8752a28-a5c9-4b1f-bbf8-afb398ddb4d3",
   "metadata": {},
   "outputs": [],
   "source": []
  }
 ],
 "metadata": {
  "kernelspec": {
   "display_name": "Python 3 (ipykernel)",
   "language": "python",
   "name": "python3"
  },
  "language_info": {
   "codemirror_mode": {
    "name": "ipython",
    "version": 3
   },
   "file_extension": ".py",
   "mimetype": "text/x-python",
   "name": "python",
   "nbconvert_exporter": "python",
   "pygments_lexer": "ipython3",
   "version": "3.9.15"
  }
 },
 "nbformat": 4,
 "nbformat_minor": 5
}
