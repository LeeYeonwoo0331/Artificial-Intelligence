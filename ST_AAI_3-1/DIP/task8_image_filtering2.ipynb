{
 "cells": [
  {
   "cell_type": "code",
   "execution_count": null,
   "id": "a2fd3fbf-3169-46ea-8eb7-bacf3f99066b",
   "metadata": {},
   "outputs": [],
   "source": [
    "import cv2\n",
    "import numpy as np\n",
    "import random\n",
    "\n",
    "# Read the image\n",
    "img = cv2.imread('rena-s.jpg', cv2.IMREAD_GRAYSCALE)\n",
    "\n",
    "# Adding random noise (white and black)\n",
    "height, width = img.shape[:2]\n",
    "noise = np.zeros((height, width), np.uint8)\n",
    "\n",
    "for i in range(height):\n",
    "    for j in range(width):\n",
    "        r = random.randint(0, 1)\n",
    "        if r == 1:\n",
    "            noise[i,j] = 255\n",
    "\n",
    "img_noise = cv2.add(img, noise)\n",
    "\n",
    "# Define the filter kernels\n",
    "kernel_smooth = np.ones((3, 3), np.float32) / 9\n",
    "kernel_sharpen = np.array([[0,-1,0],[-1,5,-1],[0,-1,0]], np.float32)\n",
    "kernel_gaussian = cv2.getGaussianKernel(5, 0)\n",
    "kernel_median = np.ones((3, 3), np.uint8)\n",
    "kernel_weighted_median = np.array([[1,1,2,2,2,1,1],\n",
    "                                   [1,2,2,4,2,2,1],\n",
    "                                   [2,2,4,8,4,2,2],\n",
    "                                   [2,4,8,16,8,4,2],\n",
    "                                   [2,2,4,8,4,2,2],\n",
    "                                   [1,2,2,4,2,2,1],\n",
    "                                   [1,1,2,2,2,1,1]], np.float32)\n",
    "\n",
    "# Apply the filters to the images\n",
    "img_smooth = cv2.filter2D(img, -1, kernel_smooth)\n",
    "img_sharpen = cv2.filter2D(img, -1, kernel_sharpen)\n",
    "img_gaussian = cv2.sepFilter2D(img_noise, -1, kernel_gaussian, kernel_gaussian)\n",
    "img_median = cv2.medianBlur(img_noise, 3)\n",
    "img_weighted_median = cv2.filter2D(img_noise, -1, kernel_weighted_median)\n",
    "\n",
    "# Display the images\n",
    "cv2.imshow('Original', img)\n",
    "cv2.imshow('Smooth', img_smooth)\n",
    "cv2.imshow('Sharpen', img_sharpen)\n",
    "cv2.imshow('Gaussian', img_gaussian)\n",
    "cv2.imshow('Median', img_median)\n",
    "cv2.imshow('Weighted Median', img_weighted_median)\n",
    "cv2.waitKey(0)\n",
    "cv2.destroyAllWindows()\n"
   ]
  },
  {
   "cell_type": "code",
   "execution_count": null,
   "id": "febb3ee5-3b2c-4fea-a24b-f94f62924950",
   "metadata": {},
   "outputs": [],
   "source": []
  }
 ],
 "metadata": {
  "kernelspec": {
   "display_name": "Python 3 (ipykernel)",
   "language": "python",
   "name": "python3"
  },
  "language_info": {
   "codemirror_mode": {
    "name": "ipython",
    "version": 3
   },
   "file_extension": ".py",
   "mimetype": "text/x-python",
   "name": "python",
   "nbconvert_exporter": "python",
   "pygments_lexer": "ipython3",
   "version": "3.9.15"
  }
 },
 "nbformat": 4,
 "nbformat_minor": 5
}
