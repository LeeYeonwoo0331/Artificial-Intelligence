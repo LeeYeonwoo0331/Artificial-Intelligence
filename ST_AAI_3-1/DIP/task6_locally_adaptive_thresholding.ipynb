{
 "cells": [
  {
   "cell_type": "code",
   "execution_count": 2,
   "id": "cafaad8c-da7f-49e1-b0a4-373476f69fa5",
   "metadata": {},
   "outputs": [],
   "source": [
    "import cv2\n",
    "\n",
    "# read image file\n",
    "img = cv2.imread(\"paper.jpg\")\n",
    "\n",
    "# locally adaptive thresholding\n",
    "gray = cv2.cvtColor(img, cv2.COLOR_BGR2GRAY)\n",
    "thresh = cv2.adaptiveThreshold(gray, 255, cv2.ADAPTIVE_THRESH_GAUSSIAN_C, cv2.THRESH_BINARY, 11, 2)\n",
    "\n",
    "# custom enhancement method (histogram equalization)\n",
    "equalized = cv2.equalizeHist(gray)\n",
    "\n",
    "# display results\n",
    "cv2.imshow(\"Original Image\", img)\n",
    "cv2.imshow(\"Locally Adaptive Thresholding\", thresh)\n",
    "cv2.imshow(\"Custom Enhancement\", equalized)\n",
    "cv2.waitKey(0)\n",
    "cv2.destroyAllWindows()"
   ]
  }
 ],
 "metadata": {
  "kernelspec": {
   "display_name": "Python 3 (ipykernel)",
   "language": "python",
   "name": "python3"
  },
  "language_info": {
   "codemirror_mode": {
    "name": "ipython",
    "version": 3
   },
   "file_extension": ".py",
   "mimetype": "text/x-python",
   "name": "python",
   "nbconvert_exporter": "python",
   "pygments_lexer": "ipython3",
   "version": "3.9.15"
  }
 },
 "nbformat": 4,
 "nbformat_minor": 5
}
